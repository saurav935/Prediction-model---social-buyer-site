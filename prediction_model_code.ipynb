{
 "cells": [
  {
   "cell_type": "markdown",
   "id": "037e55fc",
   "metadata": {},
   "source": [
    "# Importing necessary libraries"
   ]
  },
  {
   "cell_type": "code",
   "execution_count": 4,
   "id": "b15a074d",
   "metadata": {},
   "outputs": [],
   "source": [
    "import pandas as pd\n",
    "import numpy as np\n",
    "import matplotlib.pyplot as plt\n",
    "from sklearn.model_selection import train_test_split\n",
    "import seaborn as sns\n",
    "from sklearn.linear_model import LogisticRegression\n",
    "from sklearn.metrics import confusion_matrix\n",
    "from sklearn.metrics import accuracy_score\n",
    "from sklearn.metrics import classification_report\n",
    "from sklearn.neighbors import KNeighborsClassifier\n",
    "from sklearn.model_selection import RandomizedSearchCV, cross_val_score\n",
    "from sklearn.ensemble import RandomForestClassifier\n",
    "from sklearn.linear_model import SGDClassifier\n",
    "from sklearn.model_selection import GridSearchCV\n",
    "import warnings\n",
    "warnings.filterwarnings('ignore')"
   ]
  },
  {
   "cell_type": "markdown",
   "id": "fb5f3f29",
   "metadata": {},
   "source": [
    "# Loading dataset"
   ]
  },
  {
   "cell_type": "code",
   "execution_count": 5,
   "id": "36eb7eb4",
   "metadata": {},
   "outputs": [],
   "source": [
    "df = df = pd.read_csv('buyer_guide.csv')"
   ]
  },
  {
   "cell_type": "code",
   "execution_count": 6,
   "id": "f385a97c",
   "metadata": {},
   "outputs": [
    {
     "data": {
      "text/html": [
       "<div>\n",
       "<style scoped>\n",
       "    .dataframe tbody tr th:only-of-type {\n",
       "        vertical-align: middle;\n",
       "    }\n",
       "\n",
       "    .dataframe tbody tr th {\n",
       "        vertical-align: top;\n",
       "    }\n",
       "\n",
       "    .dataframe thead th {\n",
       "        text-align: right;\n",
       "    }\n",
       "</style>\n",
       "<table border=\"1\" class=\"dataframe\">\n",
       "  <thead>\n",
       "    <tr style=\"text-align: right;\">\n",
       "      <th></th>\n",
       "      <th>User ID</th>\n",
       "      <th>Gender</th>\n",
       "      <th>Age</th>\n",
       "      <th>EstimatedSalary</th>\n",
       "      <th>Purchased</th>\n",
       "    </tr>\n",
       "  </thead>\n",
       "  <tbody>\n",
       "    <tr>\n",
       "      <th>0</th>\n",
       "      <td>15624510</td>\n",
       "      <td>Male</td>\n",
       "      <td>19</td>\n",
       "      <td>19000</td>\n",
       "      <td>0</td>\n",
       "    </tr>\n",
       "    <tr>\n",
       "      <th>1</th>\n",
       "      <td>15810944</td>\n",
       "      <td>Male</td>\n",
       "      <td>35</td>\n",
       "      <td>20000</td>\n",
       "      <td>0</td>\n",
       "    </tr>\n",
       "    <tr>\n",
       "      <th>2</th>\n",
       "      <td>15668575</td>\n",
       "      <td>Female</td>\n",
       "      <td>26</td>\n",
       "      <td>43000</td>\n",
       "      <td>0</td>\n",
       "    </tr>\n",
       "    <tr>\n",
       "      <th>3</th>\n",
       "      <td>15603246</td>\n",
       "      <td>Female</td>\n",
       "      <td>27</td>\n",
       "      <td>57000</td>\n",
       "      <td>0</td>\n",
       "    </tr>\n",
       "    <tr>\n",
       "      <th>4</th>\n",
       "      <td>15804002</td>\n",
       "      <td>Male</td>\n",
       "      <td>19</td>\n",
       "      <td>76000</td>\n",
       "      <td>0</td>\n",
       "    </tr>\n",
       "  </tbody>\n",
       "</table>\n",
       "</div>"
      ],
      "text/plain": [
       "    User ID  Gender  Age  EstimatedSalary  Purchased\n",
       "0  15624510    Male   19            19000          0\n",
       "1  15810944    Male   35            20000          0\n",
       "2  15668575  Female   26            43000          0\n",
       "3  15603246  Female   27            57000          0\n",
       "4  15804002    Male   19            76000          0"
      ]
     },
     "execution_count": 6,
     "metadata": {},
     "output_type": "execute_result"
    }
   ],
   "source": [
    "df.head()"
   ]
  },
  {
   "cell_type": "markdown",
   "id": "224df21f",
   "metadata": {},
   "source": [
    "# Initial visual analysis"
   ]
  },
  {
   "cell_type": "code",
   "execution_count": 7,
   "id": "ce316878",
   "metadata": {},
   "outputs": [
    {
     "data": {
      "text/plain": [
       "<matplotlib.collections.PathCollection at 0x2dc791194f0>"
      ]
     },
     "execution_count": 7,
     "metadata": {},
     "output_type": "execute_result"
    },
    {
     "data": {
      "image/png": "[encoded data removed]",
      "text/plain": [
       "<Figure size 432x288 with 1 Axes>"
      ]
     },
     "metadata": {
      "needs_background": "light"
     },
     "output_type": "display_data"
    }
   ],
   "source": [
    "plt.scatter(df.Age,df.Purchased,marker='+',color='red')"
   ]
  },
  {
   "cell_type": "code",
   "execution_count": 8,
   "id": "f54bdfc4",
   "metadata": {},
   "outputs": [
    {
     "data": {
      "text/plain": [
       "<matplotlib.collections.PathCollection at 0x2dc7b20baf0>"
      ]
     },
     "execution_count": 8,
     "metadata": {},
     "output_type": "execute_result"
    },
    {
     "data": {
      "image/png": "[encoded data removed]",
      "text/plain": [
       "<Figure size 432x288 with 1 Axes>"
      ]
     },
     "metadata": {
      "needs_background": "light"
     },
     "output_type": "display_data"
    }
   ],
   "source": [
    "plt.scatter(df.Purchased,df.Age,marker='+',color='red')"
   ]
  },
  {
   "cell_type": "code",
   "execution_count": 9,
   "id": "7cdddfa2",
   "metadata": {},
   "outputs": [
    {
     "data": {
      "text/plain": [
       "<AxesSubplot:xlabel='Purchased', ylabel='Age'>"
      ]
     },
     "execution_count": 9,
     "metadata": {},
     "output_type": "execute_result"
    },
    {
     "data": {
      "image/png": "[encoded data removed]",
      "text/plain": [
       "<Figure size 360x576 with 1 Axes>"
      ]
     },
     "metadata": {
      "needs_background": "light"
     },
     "output_type": "display_data"
    }
   ],
   "source": [
    "# Relationship between age and purchasing decision\n",
    "\n",
    "fig = plt.figure(figsize = (5,8))\n",
    "sns.barplot(x = 'Purchased', y = 'Age', data = df)"
   ]
  },
  {
   "cell_type": "code",
   "execution_count": 10,
   "id": "f3daab30",
   "metadata": {},
   "outputs": [
    {
     "data": {
      "text/plain": [
       "<AxesSubplot:xlabel='Purchased', ylabel='EstimatedSalary'>"
      ]
     },
     "execution_count": 10,
     "metadata": {},
     "output_type": "execute_result"
    },
    {
     "data": {
      "image/png": "[encoded data removed]",
      "text/plain": [
       "<Figure size 360x576 with 1 Axes>"
      ]
     },
     "metadata": {
      "needs_background": "light"
     },
     "output_type": "display_data"
    }
   ],
   "source": [
    "# Relationship between estimated salary and purchasing decision\n",
    "\n",
    "fig = plt.figure(figsize = (5,8))\n",
    "sns.barplot(x = 'Purchased', y = 'EstimatedSalary', data = df)"
   ]
  },
  {
   "cell_type": "code",
   "execution_count": 11,
   "id": "2cbb53f3",
   "metadata": {},
   "outputs": [
    {
     "data": {
      "text/plain": [
       "<AxesSubplot:xlabel='Gender', ylabel='Purchased'>"
      ]
     },
     "execution_count": 11,
     "metadata": {},
     "output_type": "execute_result"
    },
    {
     "data": {
      "image/png": "[encoded data removed]",
      "text/plain": [
       "<Figure size 360x576 with 1 Axes>"
      ]
     },
     "metadata": {
      "needs_background": "light"
     },
     "output_type": "display_data"
    }
   ],
   "source": [
    "# Relationship between gender and purchasing decision\n",
    "\n",
    "fig = plt.figure(figsize = (5,8))\n",
    "sns.barplot(x = 'Gender', y = 'Purchased', data = df)"
   ]
  },
  {
   "cell_type": "markdown",
   "id": "4c679168",
   "metadata": {},
   "source": [
    "# Feature selection"
   ]
  },
  {
   "cell_type": "code",
   "execution_count": 12,
   "id": "6b6890a7",
   "metadata": {},
   "outputs": [],
   "source": [
    "# splitting dataset into features and target variable\n",
    "\n",
    "X = df[df.columns[2:-1]]   # Features\n",
    "y = df.Purchased           # Target variable"
   ]
  },
  {
   "cell_type": "markdown",
   "id": "031a59c5",
   "metadata": {},
   "source": [
    "# Splitting data"
   ]
  },
  {
   "cell_type": "code",
   "execution_count": 13,
   "id": "12e1818e",
   "metadata": {},
   "outputs": [],
   "source": [
    "# splitting dataset into training(80%) and testing(20%) sets\n",
    "\n",
    "X_train,X_test,y_train,y_test=train_test_split(X,y,test_size=0.2)"
   ]
  },
  {
   "cell_type": "code",
   "execution_count": 14,
   "id": "df1d73b2",
   "metadata": {},
   "outputs": [
    {
     "data": {
      "text/html": [
       "<div>\n",
       "<style scoped>\n",
       "    .dataframe tbody tr th:only-of-type {\n",
       "        vertical-align: middle;\n",
       "    }\n",
       "\n",
       "    .dataframe tbody tr th {\n",
       "        vertical-align: top;\n",
       "    }\n",
       "\n",
       "    .dataframe thead th {\n",
       "        text-align: right;\n",
       "    }\n",
       "</style>\n",
       "<table border=\"1\" class=\"dataframe\">\n",
       "  <thead>\n",
       "    <tr style=\"text-align: right;\">\n",
       "      <th></th>\n",
       "      <th>Age</th>\n",
       "      <th>EstimatedSalary</th>\n",
       "    </tr>\n",
       "  </thead>\n",
       "  <tbody>\n",
       "    <tr>\n",
       "      <th>137</th>\n",
       "      <td>30</td>\n",
       "      <td>107000</td>\n",
       "    </tr>\n",
       "    <tr>\n",
       "      <th>272</th>\n",
       "      <td>60</td>\n",
       "      <td>42000</td>\n",
       "    </tr>\n",
       "    <tr>\n",
       "      <th>211</th>\n",
       "      <td>52</td>\n",
       "      <td>150000</td>\n",
       "    </tr>\n",
       "    <tr>\n",
       "      <th>397</th>\n",
       "      <td>50</td>\n",
       "      <td>20000</td>\n",
       "    </tr>\n",
       "    <tr>\n",
       "      <th>56</th>\n",
       "      <td>23</td>\n",
       "      <td>48000</td>\n",
       "    </tr>\n",
       "    <tr>\n",
       "      <th>...</th>\n",
       "      <td>...</td>\n",
       "      <td>...</td>\n",
       "    </tr>\n",
       "    <tr>\n",
       "      <th>179</th>\n",
       "      <td>31</td>\n",
       "      <td>34000</td>\n",
       "    </tr>\n",
       "    <tr>\n",
       "      <th>327</th>\n",
       "      <td>42</td>\n",
       "      <td>75000</td>\n",
       "    </tr>\n",
       "    <tr>\n",
       "      <th>315</th>\n",
       "      <td>39</td>\n",
       "      <td>75000</td>\n",
       "    </tr>\n",
       "    <tr>\n",
       "      <th>249</th>\n",
       "      <td>35</td>\n",
       "      <td>97000</td>\n",
       "    </tr>\n",
       "    <tr>\n",
       "      <th>240</th>\n",
       "      <td>42</td>\n",
       "      <td>149000</td>\n",
       "    </tr>\n",
       "  </tbody>\n",
       "</table>\n",
       "<p>320 rows × 2 columns</p>\n",
       "</div>"
      ],
      "text/plain": [
       "     Age  EstimatedSalary\n",
       "137   30           107000\n",
       "272   60            42000\n",
       "211   52           150000\n",
       "397   50            20000\n",
       "56    23            48000\n",
       "..   ...              ...\n",
       "179   31            34000\n",
       "327   42            75000\n",
       "315   39            75000\n",
       "249   35            97000\n",
       "240   42           149000\n",
       "\n",
       "[320 rows x 2 columns]"
      ]
     },
     "execution_count": 14,
     "metadata": {},
     "output_type": "execute_result"
    }
   ],
   "source": [
    "X_train"
   ]
  },
  {
   "cell_type": "code",
   "execution_count": 15,
   "id": "195836f1",
   "metadata": {},
   "outputs": [
    {
     "data": {
      "text/html": [
       "<div>\n",
       "<style scoped>\n",
       "    .dataframe tbody tr th:only-of-type {\n",
       "        vertical-align: middle;\n",
       "    }\n",
       "\n",
       "    .dataframe tbody tr th {\n",
       "        vertical-align: top;\n",
       "    }\n",
       "\n",
       "    .dataframe thead th {\n",
       "        text-align: right;\n",
       "    }\n",
       "</style>\n",
       "<table border=\"1\" class=\"dataframe\">\n",
       "  <thead>\n",
       "    <tr style=\"text-align: right;\">\n",
       "      <th></th>\n",
       "      <th>Age</th>\n",
       "      <th>EstimatedSalary</th>\n",
       "    </tr>\n",
       "  </thead>\n",
       "  <tbody>\n",
       "    <tr>\n",
       "      <th>217</th>\n",
       "      <td>40</td>\n",
       "      <td>78000</td>\n",
       "    </tr>\n",
       "    <tr>\n",
       "      <th>155</th>\n",
       "      <td>31</td>\n",
       "      <td>15000</td>\n",
       "    </tr>\n",
       "    <tr>\n",
       "      <th>251</th>\n",
       "      <td>37</td>\n",
       "      <td>52000</td>\n",
       "    </tr>\n",
       "    <tr>\n",
       "      <th>164</th>\n",
       "      <td>33</td>\n",
       "      <td>69000</td>\n",
       "    </tr>\n",
       "    <tr>\n",
       "      <th>113</th>\n",
       "      <td>37</td>\n",
       "      <td>55000</td>\n",
       "    </tr>\n",
       "    <tr>\n",
       "      <th>...</th>\n",
       "      <td>...</td>\n",
       "      <td>...</td>\n",
       "    </tr>\n",
       "    <tr>\n",
       "      <th>351</th>\n",
       "      <td>37</td>\n",
       "      <td>75000</td>\n",
       "    </tr>\n",
       "    <tr>\n",
       "      <th>193</th>\n",
       "      <td>19</td>\n",
       "      <td>70000</td>\n",
       "    </tr>\n",
       "    <tr>\n",
       "      <th>18</th>\n",
       "      <td>46</td>\n",
       "      <td>28000</td>\n",
       "    </tr>\n",
       "    <tr>\n",
       "      <th>162</th>\n",
       "      <td>37</td>\n",
       "      <td>33000</td>\n",
       "    </tr>\n",
       "    <tr>\n",
       "      <th>119</th>\n",
       "      <td>41</td>\n",
       "      <td>59000</td>\n",
       "    </tr>\n",
       "  </tbody>\n",
       "</table>\n",
       "<p>80 rows × 2 columns</p>\n",
       "</div>"
      ],
      "text/plain": [
       "     Age  EstimatedSalary\n",
       "217   40            78000\n",
       "155   31            15000\n",
       "251   37            52000\n",
       "164   33            69000\n",
       "113   37            55000\n",
       "..   ...              ...\n",
       "351   37            75000\n",
       "193   19            70000\n",
       "18    46            28000\n",
       "162   37            33000\n",
       "119   41            59000\n",
       "\n",
       "[80 rows x 2 columns]"
      ]
     },
     "execution_count": 15,
     "metadata": {},
     "output_type": "execute_result"
    }
   ],
   "source": [
    "X_test"
   ]
  },
  {
   "cell_type": "markdown",
   "id": "70ec308c",
   "metadata": {},
   "source": [
    "# Experimenting with different algorithms"
   ]
  },
  {
   "cell_type": "code",
   "execution_count": 16,
   "id": "3dac11d8",
   "metadata": {},
   "outputs": [
    {
     "name": "stdout",
     "output_type": "stream",
     "text": [
      "              precision    recall  f1-score   support\n",
      "\n",
      "           0       0.61      1.00      0.76        49\n",
      "           1       0.00      0.00      0.00        31\n",
      "\n",
      "    accuracy                           0.61        80\n",
      "   macro avg       0.31      0.50      0.38        80\n",
      "weighted avg       0.38      0.61      0.47        80\n",
      "\n",
      "0.65\n"
     ]
    }
   ],
   "source": [
    "# Logistic Regression\n",
    "\n",
    "LogReg_model = LogisticRegression()\n",
    "LogReg_model.fit(X_train, y_train)\n",
    "predicted_LogReg_model = LogReg_model.predict(X_test)\n",
    "print(classification_report(y_test, predicted_LogReg_model))\n",
    "cross_val = cross_val_score(estimator=LogReg_model, X=X_train,y=y_train,cv=10)\n",
    "print(cross_val.mean())"
   ]
  },
  {
   "cell_type": "code",
   "execution_count": 17,
   "id": "2e45d0f3",
   "metadata": {},
   "outputs": [
    {
     "name": "stdout",
     "output_type": "stream",
     "text": [
      "              precision    recall  f1-score   support\n",
      "\n",
      "           0       0.82      0.86      0.84        49\n",
      "           1       0.76      0.71      0.73        31\n",
      "\n",
      "    accuracy                           0.80        80\n",
      "   macro avg       0.79      0.78      0.79        80\n",
      "weighted avg       0.80      0.80      0.80        80\n",
      "\n",
      "0.8\n"
     ]
    }
   ],
   "source": [
    "# K-Nearest-Neighbour (KNN)\n",
    "\n",
    "KNN_model = KNeighborsClassifier(n_neighbors = 3)\n",
    "KNN_model.fit(X_train, y_train)\n",
    "pred_KNN_model = KNN_model.predict(X_test)\n",
    "print(classification_report(y_test,pred_KNN_model))\n",
    "cross_val = cross_val_score(estimator = KNN_model, X=X_train,y=y_train,cv=10)\n",
    "print(cross_val.mean())"
   ]
  },
  {
   "cell_type": "code",
   "execution_count": 18,
   "id": "408d87aa",
   "metadata": {},
   "outputs": [
    {
     "name": "stdout",
     "output_type": "stream",
     "text": [
      "              precision    recall  f1-score   support\n",
      "\n",
      "           0       0.92      0.90      0.91        49\n",
      "           1       0.84      0.87      0.86        31\n",
      "\n",
      "    accuracy                           0.89        80\n",
      "   macro avg       0.88      0.88      0.88        80\n",
      "weighted avg       0.89      0.89      0.89        80\n",
      "\n",
      "0.890625\n"
     ]
    }
   ],
   "source": [
    "# Random Forest classifier\n",
    "\n",
    "rfc = RandomForestClassifier()\n",
    "rfc.fit(X_train,y_train)\n",
    "pred_rfc = rfc.predict(X_test)\n",
    "print(classification_report(y_test,pred_rfc))\n",
    "cross_val = cross_val_score(estimator=rfc, X=X_train, y=y_train, cv=10)\n",
    "print(cross_val.mean())"
   ]
  },
  {
   "cell_type": "code",
   "execution_count": 19,
   "id": "d40664aa",
   "metadata": {},
   "outputs": [
    {
     "name": "stdout",
     "output_type": "stream",
     "text": [
      "              precision    recall  f1-score   support\n",
      "\n",
      "           0       0.00      0.00      0.00        49\n",
      "           1       0.39      1.00      0.56        31\n",
      "\n",
      "    accuracy                           0.39        80\n",
      "   macro avg       0.19      0.50      0.28        80\n",
      "weighted avg       0.15      0.39      0.22        80\n",
      "\n",
      "0.49375\n"
     ]
    }
   ],
   "source": [
    "# Stochastic Gradient Descent classifier\n",
    "\n",
    "sgd = SGDClassifier()\n",
    "sgd.fit(X_train,y_train)\n",
    "pred_sgd = sgd.predict(X_test)\n",
    "print(classification_report(y_test, pred_sgd))\n",
    "cross_val = cross_val_score(estimator=sgd, X=X_train, y=y_train, cv=10)\n",
    "print(cross_val.mean())"
   ]
  },
  {
   "cell_type": "markdown",
   "id": "33ed44a1",
   "metadata": {},
   "source": [
    "As we can see from the above results, random forest classifier is the most efficient algorithm as compared to other's, hence we will proceed with that."
   ]
  },
  {
   "cell_type": "markdown",
   "id": "0a882886",
   "metadata": {},
   "source": [
    "# Steps to improve results"
   ]
  },
  {
   "cell_type": "code",
   "execution_count": 20,
   "id": "ce159756",
   "metadata": {},
   "outputs": [
    {
     "name": "stdout",
     "output_type": "stream",
     "text": [
      "Fitting 3 folds for each of 100 candidates, totalling 300 fits\n",
      "[CV] END bootstrap=True, max_depth=10, max_features=sqrt, min_samples_leaf=2, min_samples_split=10, n_estimators=1000; total time=   0.9s\n",
      "[CV] END bootstrap=True, max_depth=10, max_features=sqrt, min_samples_leaf=2, min_samples_split=10, n_estimators=1000; total time=   0.9s\n",
      "[CV] END bootstrap=True, max_depth=10, max_features=sqrt, min_samples_leaf=2, min_samples_split=10, n_estimators=1000; total time=   0.9s\n",
      "[CV] END bootstrap=True, max_depth=65, max_features=sqrt, min_samples_leaf=2, min_samples_split=2, n_estimators=577; total time=   0.4s\n",
      "[CV] END bootstrap=True, max_depth=65, max_features=sqrt, min_samples_leaf=2, min_samples_split=2, n_estimators=577; total time=   0.5s\n",
      "[CV] END bootstrap=True, max_depth=65, max_features=sqrt, min_samples_leaf=2, min_samples_split=2, n_estimators=577; total time=   0.5s\n",
      "[CV] END bootstrap=True, max_depth=None, max_features=auto, min_samples_leaf=2, min_samples_split=5, n_estimators=683; total time=   0.6s\n",
      "[CV] END bootstrap=True, max_depth=None, max_features=auto, min_samples_leaf=2, min_samples_split=5, n_estimators=683; total time=   0.7s\n",
      "[CV] END bootstrap=True, max_depth=None, max_features=auto, min_samples_leaf=2, min_samples_split=5, n_estimators=683; total time=   0.6s\n",
      "[CV] END bootstrap=True, max_depth=54, max_features=auto, min_samples_leaf=1, min_samples_split=2, n_estimators=50; total time=   0.0s\n",
      "[CV] END bootstrap=True, max_depth=54, max_features=auto, min_samples_leaf=1, min_samples_split=2, n_estimators=50; total time=   0.0s\n",
      "[CV] END bootstrap=True, max_depth=54, max_features=auto, min_samples_leaf=1, min_samples_split=2, n_estimators=50; total time=   0.0s\n",
      "[CV] END bootstrap=True, max_depth=21, max_features=sqrt, min_samples_leaf=2, min_samples_split=10, n_estimators=577; total time=   0.5s\n",
      "[CV] END bootstrap=True, max_depth=21, max_features=sqrt, min_samples_leaf=2, min_samples_split=10, n_estimators=577; total time=   0.6s\n",
      "[CV] END bootstrap=True, max_depth=21, max_features=sqrt, min_samples_leaf=2, min_samples_split=10, n_estimators=577; total time=   0.6s\n",
      "[CV] END bootstrap=True, max_depth=54, max_features=sqrt, min_samples_leaf=2, min_samples_split=5, n_estimators=788; total time=   0.8s\n",
      "[CV] END bootstrap=True, max_depth=54, max_features=sqrt, min_samples_leaf=2, min_samples_split=5, n_estimators=788; total time=   0.7s\n",
      "[CV] END bootstrap=True, max_depth=54, max_features=sqrt, min_samples_leaf=2, min_samples_split=5, n_estimators=788; total time=   0.8s\n",
      "[CV] END bootstrap=False, max_depth=76, max_features=sqrt, min_samples_leaf=1, min_samples_split=2, n_estimators=366; total time=   0.2s\n",
      "[CV] END bootstrap=False, max_depth=76, max_features=sqrt, min_samples_leaf=1, min_samples_split=2, n_estimators=366; total time=   0.2s\n",
      "[CV] END bootstrap=False, max_depth=76, max_features=sqrt, min_samples_leaf=1, min_samples_split=2, n_estimators=366; total time=   0.2s\n",
      "[CV] END bootstrap=True, max_depth=32, max_features=auto, min_samples_leaf=2, min_samples_split=5, n_estimators=894; total time=   0.8s\n",
      "[CV] END bootstrap=True, max_depth=32, max_features=auto, min_samples_leaf=2, min_samples_split=5, n_estimators=894; total time=   0.8s\n",
      "[CV] END bootstrap=True, max_depth=32, max_features=auto, min_samples_leaf=2, min_samples_split=5, n_estimators=894; total time=   0.8s\n",
      "[CV] END bootstrap=False, max_depth=54, max_features=sqrt, min_samples_leaf=2, min_samples_split=2, n_estimators=261; total time=   0.1s\n",
      "[CV] END bootstrap=False, max_depth=54, max_features=sqrt, min_samples_leaf=2, min_samples_split=2, n_estimators=261; total time=   0.1s\n",
      "[CV] END bootstrap=False, max_depth=54, max_features=sqrt, min_samples_leaf=2, min_samples_split=2, n_estimators=261; total time=   0.1s\n",
      "[CV] END bootstrap=False, max_depth=98, max_features=sqrt, min_samples_leaf=4, min_samples_split=5, n_estimators=472; total time=   0.2s\n",
      "[CV] END bootstrap=False, max_depth=98, max_features=sqrt, min_samples_leaf=4, min_samples_split=5, n_estimators=472; total time=   0.3s\n",
      "[CV] END bootstrap=False, max_depth=98, max_features=sqrt, min_samples_leaf=4, min_samples_split=5, n_estimators=472; total time=   0.3s\n",
      "[CV] END bootstrap=False, max_depth=87, max_features=auto, min_samples_leaf=1, min_samples_split=10, n_estimators=894; total time=   0.6s\n",
      "[CV] END bootstrap=False, max_depth=87, max_features=auto, min_samples_leaf=1, min_samples_split=10, n_estimators=894; total time=   0.6s\n",
      "[CV] END bootstrap=False, max_depth=87, max_features=auto, min_samples_leaf=1, min_samples_split=10, n_estimators=894; total time=   0.6s\n",
      "[CV] END bootstrap=False, max_depth=98, max_features=auto, min_samples_leaf=4, min_samples_split=2, n_estimators=1000; total time=   0.8s\n",
      "[CV] END bootstrap=False, max_depth=98, max_features=auto, min_samples_leaf=4, min_samples_split=2, n_estimators=1000; total time=   0.7s\n",
      "[CV] END bootstrap=False, max_depth=98, max_features=auto, min_samples_leaf=4, min_samples_split=2, n_estimators=1000; total time=   0.6s\n",
      "[CV] END bootstrap=False, max_depth=98, max_features=auto, min_samples_leaf=2, min_samples_split=10, n_estimators=1000; total time=   0.7s\n",
      "[CV] END bootstrap=False, max_depth=98, max_features=auto, min_samples_leaf=2, min_samples_split=10, n_estimators=1000; total time=   0.7s\n",
      "[CV] END bootstrap=False, max_depth=98, max_features=auto, min_samples_leaf=2, min_samples_split=10, n_estimators=1000; total time=   0.7s\n",
      "[CV] END bootstrap=True, max_depth=21, max_features=sqrt, min_samples_leaf=4, min_samples_split=10, n_estimators=472; total time=   0.5s\n",
      "[CV] END bootstrap=True, max_depth=21, max_features=sqrt, min_samples_leaf=4, min_samples_split=10, n_estimators=472; total time=   0.5s\n",
      "[CV] END bootstrap=True, max_depth=21, max_features=sqrt, min_samples_leaf=4, min_samples_split=10, n_estimators=472; total time=   0.4s\n",
      "[CV] END bootstrap=False, max_depth=98, max_features=sqrt, min_samples_leaf=1, min_samples_split=2, n_estimators=155; total time=   0.1s\n",
      "[CV] END bootstrap=False, max_depth=98, max_features=sqrt, min_samples_leaf=1, min_samples_split=2, n_estimators=155; total time=   0.1s\n",
      "[CV] END bootstrap=False, max_depth=98, max_features=sqrt, min_samples_leaf=1, min_samples_split=2, n_estimators=155; total time=   0.1s\n",
      "[CV] END bootstrap=False, max_depth=10, max_features=sqrt, min_samples_leaf=4, min_samples_split=10, n_estimators=1000; total time=   0.6s\n",
      "[CV] END bootstrap=False, max_depth=10, max_features=sqrt, min_samples_leaf=4, min_samples_split=10, n_estimators=1000; total time=   0.7s\n",
      "[CV] END bootstrap=False, max_depth=10, max_features=sqrt, min_samples_leaf=4, min_samples_split=10, n_estimators=1000; total time=   0.6s\n",
      "[CV] END bootstrap=False, max_depth=43, max_features=sqrt, min_samples_leaf=2, min_samples_split=5, n_estimators=50; total time=   0.0s\n",
      "[CV] END bootstrap=False, max_depth=43, max_features=sqrt, min_samples_leaf=2, min_samples_split=5, n_estimators=50; total time=   0.0s\n",
      "[CV] END bootstrap=False, max_depth=43, max_features=sqrt, min_samples_leaf=2, min_samples_split=5, n_estimators=50; total time=   0.0s\n",
      "[CV] END bootstrap=False, max_depth=76, max_features=auto, min_samples_leaf=2, min_samples_split=2, n_estimators=577; total time=   0.4s\n",
      "[CV] END bootstrap=False, max_depth=76, max_features=auto, min_samples_leaf=2, min_samples_split=2, n_estimators=577; total time=   0.3s\n",
      "[CV] END bootstrap=False, max_depth=76, max_features=auto, min_samples_leaf=2, min_samples_split=2, n_estimators=577; total time=   0.4s\n",
      "[CV] END bootstrap=False, max_depth=32, max_features=sqrt, min_samples_leaf=4, min_samples_split=5, n_estimators=683; total time=   0.4s\n",
      "[CV] END bootstrap=False, max_depth=32, max_features=sqrt, min_samples_leaf=4, min_samples_split=5, n_estimators=683; total time=   0.5s\n",
      "[CV] END bootstrap=False, max_depth=32, max_features=sqrt, min_samples_leaf=4, min_samples_split=5, n_estimators=683; total time=   0.4s\n",
      "[CV] END bootstrap=True, max_depth=76, max_features=sqrt, min_samples_leaf=1, min_samples_split=5, n_estimators=1000; total time=   1.0s\n",
      "[CV] END bootstrap=True, max_depth=76, max_features=sqrt, min_samples_leaf=1, min_samples_split=5, n_estimators=1000; total time=   0.9s\n",
      "[CV] END bootstrap=True, max_depth=76, max_features=sqrt, min_samples_leaf=1, min_samples_split=5, n_estimators=1000; total time=   1.0s\n"
     ]
    },
    {
     "name": "stdout",
     "output_type": "stream",
     "text": [
      "[CV] END bootstrap=True, max_depth=None, max_features=auto, min_samples_leaf=4, min_samples_split=5, n_estimators=472; total time=   0.4s\n",
      "[CV] END bootstrap=True, max_depth=None, max_features=auto, min_samples_leaf=4, min_samples_split=5, n_estimators=472; total time=   0.3s\n",
      "[CV] END bootstrap=True, max_depth=None, max_features=auto, min_samples_leaf=4, min_samples_split=5, n_estimators=472; total time=   0.4s\n",
      "[CV] END bootstrap=False, max_depth=32, max_features=auto, min_samples_leaf=4, min_samples_split=2, n_estimators=50; total time=   0.0s\n",
      "[CV] END bootstrap=False, max_depth=32, max_features=auto, min_samples_leaf=4, min_samples_split=2, n_estimators=50; total time=   0.0s\n",
      "[CV] END bootstrap=False, max_depth=32, max_features=auto, min_samples_leaf=4, min_samples_split=2, n_estimators=50; total time=   0.0s\n",
      "[CV] END bootstrap=True, max_depth=76, max_features=sqrt, min_samples_leaf=4, min_samples_split=2, n_estimators=155; total time=   0.0s\n",
      "[CV] END bootstrap=True, max_depth=76, max_features=sqrt, min_samples_leaf=4, min_samples_split=2, n_estimators=155; total time=   0.0s\n",
      "[CV] END bootstrap=True, max_depth=76, max_features=sqrt, min_samples_leaf=4, min_samples_split=2, n_estimators=155; total time=   0.1s\n",
      "[CV] END bootstrap=False, max_depth=98, max_features=sqrt, min_samples_leaf=2, min_samples_split=5, n_estimators=788; total time=   0.5s\n",
      "[CV] END bootstrap=False, max_depth=98, max_features=sqrt, min_samples_leaf=2, min_samples_split=5, n_estimators=788; total time=   0.6s\n",
      "[CV] END bootstrap=False, max_depth=98, max_features=sqrt, min_samples_leaf=2, min_samples_split=5, n_estimators=788; total time=   0.5s\n",
      "[CV] END bootstrap=False, max_depth=None, max_features=sqrt, min_samples_leaf=1, min_samples_split=2, n_estimators=50; total time=   0.0s\n",
      "[CV] END bootstrap=False, max_depth=None, max_features=sqrt, min_samples_leaf=1, min_samples_split=2, n_estimators=50; total time=   0.0s\n",
      "[CV] END bootstrap=False, max_depth=None, max_features=sqrt, min_samples_leaf=1, min_samples_split=2, n_estimators=50; total time=   0.0s\n",
      "[CV] END bootstrap=True, max_depth=21, max_features=sqrt, min_samples_leaf=1, min_samples_split=2, n_estimators=50; total time=   0.0s\n",
      "[CV] END bootstrap=True, max_depth=21, max_features=sqrt, min_samples_leaf=1, min_samples_split=2, n_estimators=50; total time=   0.0s\n",
      "[CV] END bootstrap=True, max_depth=21, max_features=sqrt, min_samples_leaf=1, min_samples_split=2, n_estimators=50; total time=   0.0s\n",
      "[CV] END bootstrap=False, max_depth=21, max_features=auto, min_samples_leaf=1, min_samples_split=5, n_estimators=894; total time=   0.5s\n",
      "[CV] END bootstrap=False, max_depth=21, max_features=auto, min_samples_leaf=1, min_samples_split=5, n_estimators=894; total time=   0.7s\n",
      "[CV] END bootstrap=False, max_depth=21, max_features=auto, min_samples_leaf=1, min_samples_split=5, n_estimators=894; total time=   0.7s\n",
      "[CV] END bootstrap=True, max_depth=98, max_features=sqrt, min_samples_leaf=4, min_samples_split=10, n_estimators=50; total time=   0.0s\n",
      "[CV] END bootstrap=True, max_depth=98, max_features=sqrt, min_samples_leaf=4, min_samples_split=10, n_estimators=50; total time=   0.0s\n",
      "[CV] END bootstrap=True, max_depth=98, max_features=sqrt, min_samples_leaf=4, min_samples_split=10, n_estimators=50; total time=   0.0s\n",
      "[CV] END bootstrap=True, max_depth=110, max_features=sqrt, min_samples_leaf=2, min_samples_split=2, n_estimators=577; total time=   0.6s\n",
      "[CV] END bootstrap=True, max_depth=110, max_features=sqrt, min_samples_leaf=2, min_samples_split=2, n_estimators=577; total time=   0.5s\n",
      "[CV] END bootstrap=True, max_depth=110, max_features=sqrt, min_samples_leaf=2, min_samples_split=2, n_estimators=577; total time=   0.5s\n",
      "[CV] END bootstrap=True, max_depth=110, max_features=sqrt, min_samples_leaf=4, min_samples_split=10, n_estimators=577; total time=   0.5s\n",
      "[CV] END bootstrap=True, max_depth=110, max_features=sqrt, min_samples_leaf=4, min_samples_split=10, n_estimators=577; total time=   0.5s\n",
      "[CV] END bootstrap=True, max_depth=110, max_features=sqrt, min_samples_leaf=4, min_samples_split=10, n_estimators=577; total time=   0.6s\n",
      "[CV] END bootstrap=True, max_depth=21, max_features=auto, min_samples_leaf=2, min_samples_split=2, n_estimators=155; total time=   0.0s\n",
      "[CV] END bootstrap=True, max_depth=21, max_features=auto, min_samples_leaf=2, min_samples_split=2, n_estimators=155; total time=   0.0s\n",
      "[CV] END bootstrap=True, max_depth=21, max_features=auto, min_samples_leaf=2, min_samples_split=2, n_estimators=155; total time=   0.1s\n",
      "[CV] END bootstrap=False, max_depth=87, max_features=sqrt, min_samples_leaf=2, min_samples_split=5, n_estimators=788; total time=   0.6s\n",
      "[CV] END bootstrap=False, max_depth=87, max_features=sqrt, min_samples_leaf=2, min_samples_split=5, n_estimators=788; total time=   0.5s\n",
      "[CV] END bootstrap=False, max_depth=87, max_features=sqrt, min_samples_leaf=2, min_samples_split=5, n_estimators=788; total time=   0.5s\n",
      "[CV] END bootstrap=True, max_depth=110, max_features=auto, min_samples_leaf=1, min_samples_split=10, n_estimators=155; total time=   0.1s\n",
      "[CV] END bootstrap=True, max_depth=110, max_features=auto, min_samples_leaf=1, min_samples_split=10, n_estimators=155; total time=   0.1s\n",
      "[CV] END bootstrap=True, max_depth=110, max_features=auto, min_samples_leaf=1, min_samples_split=10, n_estimators=155; total time=   0.1s\n",
      "[CV] END bootstrap=False, max_depth=76, max_features=auto, min_samples_leaf=4, min_samples_split=2, n_estimators=1000; total time=   0.6s\n",
      "[CV] END bootstrap=False, max_depth=76, max_features=auto, min_samples_leaf=4, min_samples_split=2, n_estimators=1000; total time=   0.7s\n",
      "[CV] END bootstrap=False, max_depth=76, max_features=auto, min_samples_leaf=4, min_samples_split=2, n_estimators=1000; total time=   0.7s\n",
      "[CV] END bootstrap=True, max_depth=10, max_features=auto, min_samples_leaf=1, min_samples_split=5, n_estimators=472; total time=   0.4s\n",
      "[CV] END bootstrap=True, max_depth=10, max_features=auto, min_samples_leaf=1, min_samples_split=5, n_estimators=472; total time=   0.4s\n",
      "[CV] END bootstrap=True, max_depth=10, max_features=auto, min_samples_leaf=1, min_samples_split=5, n_estimators=472; total time=   0.4s\n",
      "[CV] END bootstrap=False, max_depth=54, max_features=sqrt, min_samples_leaf=2, min_samples_split=2, n_estimators=50; total time=   0.0s\n",
      "[CV] END bootstrap=False, max_depth=54, max_features=sqrt, min_samples_leaf=2, min_samples_split=2, n_estimators=50; total time=   0.0s\n",
      "[CV] END bootstrap=False, max_depth=54, max_features=sqrt, min_samples_leaf=2, min_samples_split=2, n_estimators=50; total time=   0.0s\n",
      "[CV] END bootstrap=True, max_depth=None, max_features=sqrt, min_samples_leaf=1, min_samples_split=10, n_estimators=261; total time=   0.2s\n",
      "[CV] END bootstrap=True, max_depth=None, max_features=sqrt, min_samples_leaf=1, min_samples_split=10, n_estimators=261; total time=   0.1s\n",
      "[CV] END bootstrap=True, max_depth=None, max_features=sqrt, min_samples_leaf=1, min_samples_split=10, n_estimators=261; total time=   0.2s\n",
      "[CV] END bootstrap=False, max_depth=32, max_features=sqrt, min_samples_leaf=4, min_samples_split=5, n_estimators=50; total time=   0.0s\n",
      "[CV] END bootstrap=False, max_depth=32, max_features=sqrt, min_samples_leaf=4, min_samples_split=5, n_estimators=50; total time=   0.0s\n",
      "[CV] END bootstrap=False, max_depth=32, max_features=sqrt, min_samples_leaf=4, min_samples_split=5, n_estimators=50; total time=   0.0s\n",
      "[CV] END bootstrap=False, max_depth=21, max_features=sqrt, min_samples_leaf=1, min_samples_split=5, n_estimators=894; total time=   0.5s\n",
      "[CV] END bootstrap=False, max_depth=21, max_features=sqrt, min_samples_leaf=1, min_samples_split=5, n_estimators=894; total time=   0.6s\n",
      "[CV] END bootstrap=False, max_depth=21, max_features=sqrt, min_samples_leaf=1, min_samples_split=5, n_estimators=894; total time=   0.6s\n",
      "[CV] END bootstrap=False, max_depth=87, max_features=sqrt, min_samples_leaf=2, min_samples_split=2, n_estimators=155; total time=   0.0s\n",
      "[CV] END bootstrap=False, max_depth=87, max_features=sqrt, min_samples_leaf=2, min_samples_split=2, n_estimators=155; total time=   0.0s\n",
      "[CV] END bootstrap=False, max_depth=87, max_features=sqrt, min_samples_leaf=2, min_samples_split=2, n_estimators=155; total time=   0.0s\n"
     ]
    },
    {
     "name": "stdout",
     "output_type": "stream",
     "text": [
      "[CV] END bootstrap=False, max_depth=10, max_features=auto, min_samples_leaf=1, min_samples_split=10, n_estimators=366; total time=   0.2s\n",
      "[CV] END bootstrap=False, max_depth=10, max_features=auto, min_samples_leaf=1, min_samples_split=10, n_estimators=366; total time=   0.2s\n",
      "[CV] END bootstrap=False, max_depth=10, max_features=auto, min_samples_leaf=1, min_samples_split=10, n_estimators=366; total time=   0.3s\n",
      "[CV] END bootstrap=False, max_depth=None, max_features=auto, min_samples_leaf=1, min_samples_split=5, n_estimators=50; total time=   0.0s\n",
      "[CV] END bootstrap=False, max_depth=None, max_features=auto, min_samples_leaf=1, min_samples_split=5, n_estimators=50; total time=   0.0s\n",
      "[CV] END bootstrap=False, max_depth=None, max_features=auto, min_samples_leaf=1, min_samples_split=5, n_estimators=50; total time=   0.0s\n",
      "[CV] END bootstrap=True, max_depth=65, max_features=auto, min_samples_leaf=1, min_samples_split=5, n_estimators=261; total time=   0.2s\n",
      "[CV] END bootstrap=True, max_depth=65, max_features=auto, min_samples_leaf=1, min_samples_split=5, n_estimators=261; total time=   0.2s\n",
      "[CV] END bootstrap=True, max_depth=65, max_features=auto, min_samples_leaf=1, min_samples_split=5, n_estimators=261; total time=   0.1s\n",
      "[CV] END bootstrap=True, max_depth=21, max_features=auto, min_samples_leaf=4, min_samples_split=2, n_estimators=50; total time=   0.0s\n",
      "[CV] END bootstrap=True, max_depth=21, max_features=auto, min_samples_leaf=4, min_samples_split=2, n_estimators=50; total time=   0.0s\n",
      "[CV] END bootstrap=True, max_depth=21, max_features=auto, min_samples_leaf=4, min_samples_split=2, n_estimators=50; total time=   0.0s\n",
      "[CV] END bootstrap=True, max_depth=54, max_features=sqrt, min_samples_leaf=1, min_samples_split=2, n_estimators=894; total time=   0.9s\n",
      "[CV] END bootstrap=True, max_depth=54, max_features=sqrt, min_samples_leaf=1, min_samples_split=2, n_estimators=894; total time=   0.9s\n",
      "[CV] END bootstrap=True, max_depth=54, max_features=sqrt, min_samples_leaf=1, min_samples_split=2, n_estimators=894; total time=   0.8s\n",
      "[CV] END bootstrap=True, max_depth=54, max_features=sqrt, min_samples_leaf=4, min_samples_split=10, n_estimators=788; total time=   0.8s\n",
      "[CV] END bootstrap=True, max_depth=54, max_features=sqrt, min_samples_leaf=4, min_samples_split=10, n_estimators=788; total time=   0.7s\n",
      "[CV] END bootstrap=True, max_depth=54, max_features=sqrt, min_samples_leaf=4, min_samples_split=10, n_estimators=788; total time=   0.7s\n",
      "[CV] END bootstrap=True, max_depth=54, max_features=auto, min_samples_leaf=1, min_samples_split=10, n_estimators=472; total time=   0.4s\n",
      "[CV] END bootstrap=True, max_depth=54, max_features=auto, min_samples_leaf=1, min_samples_split=10, n_estimators=472; total time=   0.4s\n",
      "[CV] END bootstrap=True, max_depth=54, max_features=auto, min_samples_leaf=1, min_samples_split=10, n_estimators=472; total time=   0.4s\n",
      "[CV] END bootstrap=True, max_depth=10, max_features=auto, min_samples_leaf=4, min_samples_split=5, n_estimators=50; total time=   0.0s\n",
      "[CV] END bootstrap=True, max_depth=10, max_features=auto, min_samples_leaf=4, min_samples_split=5, n_estimators=50; total time=   0.0s\n",
      "[CV] END bootstrap=True, max_depth=10, max_features=auto, min_samples_leaf=4, min_samples_split=5, n_estimators=50; total time=   0.0s\n",
      "[CV] END bootstrap=True, max_depth=54, max_features=sqrt, min_samples_leaf=1, min_samples_split=5, n_estimators=1000; total time=   0.9s\n",
      "[CV] END bootstrap=True, max_depth=54, max_features=sqrt, min_samples_leaf=1, min_samples_split=5, n_estimators=1000; total time=   1.0s\n",
      "[CV] END bootstrap=True, max_depth=54, max_features=sqrt, min_samples_leaf=1, min_samples_split=5, n_estimators=1000; total time=   0.9s\n",
      "[CV] END bootstrap=False, max_depth=87, max_features=auto, min_samples_leaf=2, min_samples_split=5, n_estimators=894; total time=   0.6s\n",
      "[CV] END bootstrap=False, max_depth=87, max_features=auto, min_samples_leaf=2, min_samples_split=5, n_estimators=894; total time=   0.6s\n",
      "[CV] END bootstrap=False, max_depth=87, max_features=auto, min_samples_leaf=2, min_samples_split=5, n_estimators=894; total time=   0.5s\n",
      "[CV] END bootstrap=True, max_depth=43, max_features=auto, min_samples_leaf=1, min_samples_split=10, n_estimators=894; total time=   0.8s\n",
      "[CV] END bootstrap=True, max_depth=43, max_features=auto, min_samples_leaf=1, min_samples_split=10, n_estimators=894; total time=   0.8s\n",
      "[CV] END bootstrap=True, max_depth=43, max_features=auto, min_samples_leaf=1, min_samples_split=10, n_estimators=894; total time=   0.9s\n",
      "[CV] END bootstrap=True, max_depth=65, max_features=auto, min_samples_leaf=2, min_samples_split=2, n_estimators=261; total time=   0.3s\n",
      "[CV] END bootstrap=True, max_depth=65, max_features=auto, min_samples_leaf=2, min_samples_split=2, n_estimators=261; total time=   0.2s\n",
      "[CV] END bootstrap=True, max_depth=65, max_features=auto, min_samples_leaf=2, min_samples_split=2, n_estimators=261; total time=   0.1s\n",
      "[CV] END bootstrap=False, max_depth=None, max_features=auto, min_samples_leaf=1, min_samples_split=5, n_estimators=1000; total time=   0.8s\n",
      "[CV] END bootstrap=False, max_depth=None, max_features=auto, min_samples_leaf=1, min_samples_split=5, n_estimators=1000; total time=   0.7s\n",
      "[CV] END bootstrap=False, max_depth=None, max_features=auto, min_samples_leaf=1, min_samples_split=5, n_estimators=1000; total time=   0.7s\n",
      "[CV] END bootstrap=True, max_depth=10, max_features=auto, min_samples_leaf=1, min_samples_split=2, n_estimators=894; total time=   0.9s\n",
      "[CV] END bootstrap=True, max_depth=10, max_features=auto, min_samples_leaf=1, min_samples_split=2, n_estimators=894; total time=   0.9s\n",
      "[CV] END bootstrap=True, max_depth=10, max_features=auto, min_samples_leaf=1, min_samples_split=2, n_estimators=894; total time=   0.8s\n",
      "[CV] END bootstrap=False, max_depth=None, max_features=auto, min_samples_leaf=1, min_samples_split=10, n_estimators=788; total time=   0.5s\n",
      "[CV] END bootstrap=False, max_depth=None, max_features=auto, min_samples_leaf=1, min_samples_split=10, n_estimators=788; total time=   0.6s\n",
      "[CV] END bootstrap=False, max_depth=None, max_features=auto, min_samples_leaf=1, min_samples_split=10, n_estimators=788; total time=   0.5s\n",
      "[CV] END bootstrap=True, max_depth=32, max_features=auto, min_samples_leaf=4, min_samples_split=5, n_estimators=894; total time=   0.8s\n",
      "[CV] END bootstrap=True, max_depth=32, max_features=auto, min_samples_leaf=4, min_samples_split=5, n_estimators=894; total time=   0.9s\n",
      "[CV] END bootstrap=True, max_depth=32, max_features=auto, min_samples_leaf=4, min_samples_split=5, n_estimators=894; total time=   0.9s\n",
      "[CV] END bootstrap=True, max_depth=110, max_features=sqrt, min_samples_leaf=4, min_samples_split=2, n_estimators=788; total time=   0.7s\n",
      "[CV] END bootstrap=True, max_depth=110, max_features=sqrt, min_samples_leaf=4, min_samples_split=2, n_estimators=788; total time=   0.8s\n",
      "[CV] END bootstrap=True, max_depth=110, max_features=sqrt, min_samples_leaf=4, min_samples_split=2, n_estimators=788; total time=   0.7s\n",
      "[CV] END bootstrap=False, max_depth=98, max_features=auto, min_samples_leaf=1, min_samples_split=5, n_estimators=1000; total time=   0.9s\n",
      "[CV] END bootstrap=False, max_depth=98, max_features=auto, min_samples_leaf=1, min_samples_split=5, n_estimators=1000; total time=   0.7s\n",
      "[CV] END bootstrap=False, max_depth=98, max_features=auto, min_samples_leaf=1, min_samples_split=5, n_estimators=1000; total time=   0.8s\n",
      "[CV] END bootstrap=False, max_depth=32, max_features=sqrt, min_samples_leaf=2, min_samples_split=5, n_estimators=366; total time=   0.2s\n",
      "[CV] END bootstrap=False, max_depth=32, max_features=sqrt, min_samples_leaf=2, min_samples_split=5, n_estimators=366; total time=   0.2s\n",
      "[CV] END bootstrap=False, max_depth=32, max_features=sqrt, min_samples_leaf=2, min_samples_split=5, n_estimators=366; total time=   0.3s\n",
      "[CV] END bootstrap=True, max_depth=65, max_features=auto, min_samples_leaf=1, min_samples_split=10, n_estimators=1000; total time=   1.0s\n",
      "[CV] END bootstrap=True, max_depth=65, max_features=auto, min_samples_leaf=1, min_samples_split=10, n_estimators=1000; total time=   1.0s\n",
      "[CV] END bootstrap=True, max_depth=65, max_features=auto, min_samples_leaf=1, min_samples_split=10, n_estimators=1000; total time=   1.0s\n",
      "[CV] END bootstrap=False, max_depth=110, max_features=sqrt, min_samples_leaf=1, min_samples_split=5, n_estimators=50; total time=   0.0s\n",
      "[CV] END bootstrap=False, max_depth=110, max_features=sqrt, min_samples_leaf=1, min_samples_split=5, n_estimators=50; total time=   0.0s\n",
      "[CV] END bootstrap=False, max_depth=110, max_features=sqrt, min_samples_leaf=1, min_samples_split=5, n_estimators=50; total time=   0.0s\n"
     ]
    },
    {
     "name": "stdout",
     "output_type": "stream",
     "text": [
      "[CV] END bootstrap=False, max_depth=65, max_features=sqrt, min_samples_leaf=2, min_samples_split=10, n_estimators=683; total time=   0.5s\n",
      "[CV] END bootstrap=False, max_depth=65, max_features=sqrt, min_samples_leaf=2, min_samples_split=10, n_estimators=683; total time=   0.4s\n",
      "[CV] END bootstrap=False, max_depth=65, max_features=sqrt, min_samples_leaf=2, min_samples_split=10, n_estimators=683; total time=   0.5s\n",
      "[CV] END bootstrap=True, max_depth=65, max_features=sqrt, min_samples_leaf=1, min_samples_split=2, n_estimators=1000; total time=   1.0s\n",
      "[CV] END bootstrap=True, max_depth=65, max_features=sqrt, min_samples_leaf=1, min_samples_split=2, n_estimators=1000; total time=   0.9s\n",
      "[CV] END bootstrap=True, max_depth=65, max_features=sqrt, min_samples_leaf=1, min_samples_split=2, n_estimators=1000; total time=   1.0s\n",
      "[CV] END bootstrap=True, max_depth=110, max_features=sqrt, min_samples_leaf=2, min_samples_split=10, n_estimators=577; total time=   0.7s\n",
      "[CV] END bootstrap=True, max_depth=110, max_features=sqrt, min_samples_leaf=2, min_samples_split=10, n_estimators=577; total time=   0.5s\n",
      "[CV] END bootstrap=True, max_depth=110, max_features=sqrt, min_samples_leaf=2, min_samples_split=10, n_estimators=577; total time=   0.5s\n",
      "[CV] END bootstrap=False, max_depth=32, max_features=auto, min_samples_leaf=4, min_samples_split=2, n_estimators=155; total time=   0.0s\n",
      "[CV] END bootstrap=False, max_depth=32, max_features=auto, min_samples_leaf=4, min_samples_split=2, n_estimators=155; total time=   0.0s\n",
      "[CV] END bootstrap=False, max_depth=32, max_features=auto, min_samples_leaf=4, min_samples_split=2, n_estimators=155; total time=   0.0s\n",
      "[CV] END bootstrap=True, max_depth=54, max_features=auto, min_samples_leaf=4, min_samples_split=10, n_estimators=577; total time=   0.5s\n",
      "[CV] END bootstrap=True, max_depth=54, max_features=auto, min_samples_leaf=4, min_samples_split=10, n_estimators=577; total time=   0.5s\n",
      "[CV] END bootstrap=True, max_depth=54, max_features=auto, min_samples_leaf=4, min_samples_split=10, n_estimators=577; total time=   0.4s\n",
      "[CV] END bootstrap=False, max_depth=10, max_features=auto, min_samples_leaf=2, min_samples_split=2, n_estimators=1000; total time=   0.8s\n",
      "[CV] END bootstrap=False, max_depth=10, max_features=auto, min_samples_leaf=2, min_samples_split=2, n_estimators=1000; total time=   0.8s\n",
      "[CV] END bootstrap=False, max_depth=10, max_features=auto, min_samples_leaf=2, min_samples_split=2, n_estimators=1000; total time=   0.8s\n",
      "[CV] END bootstrap=False, max_depth=98, max_features=sqrt, min_samples_leaf=4, min_samples_split=10, n_estimators=894; total time=   0.6s\n",
      "[CV] END bootstrap=False, max_depth=98, max_features=sqrt, min_samples_leaf=4, min_samples_split=10, n_estimators=894; total time=   0.6s\n",
      "[CV] END bootstrap=False, max_depth=98, max_features=sqrt, min_samples_leaf=4, min_samples_split=10, n_estimators=894; total time=   0.7s\n",
      "[CV] END bootstrap=False, max_depth=87, max_features=sqrt, min_samples_leaf=2, min_samples_split=2, n_estimators=50; total time=   0.0s\n",
      "[CV] END bootstrap=False, max_depth=87, max_features=sqrt, min_samples_leaf=2, min_samples_split=2, n_estimators=50; total time=   0.0s\n",
      "[CV] END bootstrap=False, max_depth=87, max_features=sqrt, min_samples_leaf=2, min_samples_split=2, n_estimators=50; total time=   0.0s\n",
      "[CV] END bootstrap=True, max_depth=10, max_features=auto, min_samples_leaf=2, min_samples_split=2, n_estimators=261; total time=   0.2s\n",
      "[CV] END bootstrap=True, max_depth=10, max_features=auto, min_samples_leaf=2, min_samples_split=2, n_estimators=261; total time=   0.2s\n",
      "[CV] END bootstrap=True, max_depth=10, max_features=auto, min_samples_leaf=2, min_samples_split=2, n_estimators=261; total time=   0.2s\n",
      "[CV] END bootstrap=True, max_depth=None, max_features=auto, min_samples_leaf=1, min_samples_split=10, n_estimators=261; total time=   0.2s\n",
      "[CV] END bootstrap=True, max_depth=None, max_features=auto, min_samples_leaf=1, min_samples_split=10, n_estimators=261; total time=   0.2s\n",
      "[CV] END bootstrap=True, max_depth=None, max_features=auto, min_samples_leaf=1, min_samples_split=10, n_estimators=261; total time=   0.2s\n",
      "[CV] END bootstrap=True, max_depth=98, max_features=sqrt, min_samples_leaf=1, min_samples_split=2, n_estimators=261; total time=   0.2s\n",
      "[CV] END bootstrap=True, max_depth=98, max_features=sqrt, min_samples_leaf=1, min_samples_split=2, n_estimators=261; total time=   0.2s\n",
      "[CV] END bootstrap=True, max_depth=98, max_features=sqrt, min_samples_leaf=1, min_samples_split=2, n_estimators=261; total time=   0.2s\n",
      "[CV] END bootstrap=False, max_depth=54, max_features=sqrt, min_samples_leaf=2, min_samples_split=5, n_estimators=577; total time=   0.3s\n",
      "[CV] END bootstrap=False, max_depth=54, max_features=sqrt, min_samples_leaf=2, min_samples_split=5, n_estimators=577; total time=   0.4s\n",
      "[CV] END bootstrap=False, max_depth=54, max_features=sqrt, min_samples_leaf=2, min_samples_split=5, n_estimators=577; total time=   0.3s\n",
      "[CV] END bootstrap=False, max_depth=110, max_features=sqrt, min_samples_leaf=4, min_samples_split=5, n_estimators=683; total time=   0.5s\n",
      "[CV] END bootstrap=False, max_depth=110, max_features=sqrt, min_samples_leaf=4, min_samples_split=5, n_estimators=683; total time=   0.4s\n",
      "[CV] END bootstrap=False, max_depth=110, max_features=sqrt, min_samples_leaf=4, min_samples_split=5, n_estimators=683; total time=   0.5s\n",
      "[CV] END bootstrap=False, max_depth=10, max_features=auto, min_samples_leaf=2, min_samples_split=2, n_estimators=683; total time=   0.5s\n",
      "[CV] END bootstrap=False, max_depth=10, max_features=auto, min_samples_leaf=2, min_samples_split=2, n_estimators=683; total time=   0.5s\n",
      "[CV] END bootstrap=False, max_depth=10, max_features=auto, min_samples_leaf=2, min_samples_split=2, n_estimators=683; total time=   0.5s\n",
      "[CV] END bootstrap=True, max_depth=None, max_features=auto, min_samples_leaf=1, min_samples_split=2, n_estimators=50; total time=   0.0s\n",
      "[CV] END bootstrap=True, max_depth=None, max_features=auto, min_samples_leaf=1, min_samples_split=2, n_estimators=50; total time=   0.0s\n",
      "[CV] END bootstrap=True, max_depth=None, max_features=auto, min_samples_leaf=1, min_samples_split=2, n_estimators=50; total time=   0.0s\n",
      "[CV] END bootstrap=False, max_depth=10, max_features=auto, min_samples_leaf=1, min_samples_split=5, n_estimators=1000; total time=   0.8s\n",
      "[CV] END bootstrap=False, max_depth=10, max_features=auto, min_samples_leaf=1, min_samples_split=5, n_estimators=1000; total time=   0.7s\n",
      "[CV] END bootstrap=False, max_depth=10, max_features=auto, min_samples_leaf=1, min_samples_split=5, n_estimators=1000; total time=   0.6s\n",
      "[CV] END bootstrap=False, max_depth=76, max_features=sqrt, min_samples_leaf=2, min_samples_split=5, n_estimators=577; total time=   0.4s\n",
      "[CV] END bootstrap=False, max_depth=76, max_features=sqrt, min_samples_leaf=2, min_samples_split=5, n_estimators=577; total time=   0.3s\n",
      "[CV] END bootstrap=False, max_depth=76, max_features=sqrt, min_samples_leaf=2, min_samples_split=5, n_estimators=577; total time=   0.4s\n",
      "[CV] END bootstrap=False, max_depth=10, max_features=auto, min_samples_leaf=2, min_samples_split=2, n_estimators=577; total time=   0.3s\n",
      "[CV] END bootstrap=False, max_depth=10, max_features=auto, min_samples_leaf=2, min_samples_split=2, n_estimators=577; total time=   0.4s\n",
      "[CV] END bootstrap=False, max_depth=10, max_features=auto, min_samples_leaf=2, min_samples_split=2, n_estimators=577; total time=   0.4s\n",
      "[CV] END bootstrap=True, max_depth=32, max_features=auto, min_samples_leaf=4, min_samples_split=5, n_estimators=261; total time=   0.2s\n",
      "[CV] END bootstrap=True, max_depth=32, max_features=auto, min_samples_leaf=4, min_samples_split=5, n_estimators=261; total time=   0.3s\n",
      "[CV] END bootstrap=True, max_depth=32, max_features=auto, min_samples_leaf=4, min_samples_split=5, n_estimators=261; total time=   0.2s\n",
      "[CV] END bootstrap=True, max_depth=76, max_features=auto, min_samples_leaf=2, min_samples_split=5, n_estimators=894; total time=   0.9s\n",
      "[CV] END bootstrap=True, max_depth=76, max_features=auto, min_samples_leaf=2, min_samples_split=5, n_estimators=894; total time=   0.9s\n",
      "[CV] END bootstrap=True, max_depth=76, max_features=auto, min_samples_leaf=2, min_samples_split=5, n_estimators=894; total time=   0.9s\n"
     ]
    },
    {
     "name": "stdout",
     "output_type": "stream",
     "text": [
      "[CV] END bootstrap=False, max_depth=54, max_features=auto, min_samples_leaf=4, min_samples_split=10, n_estimators=1000; total time=   0.8s\n",
      "[CV] END bootstrap=False, max_depth=54, max_features=auto, min_samples_leaf=4, min_samples_split=10, n_estimators=1000; total time=   0.8s\n",
      "[CV] END bootstrap=False, max_depth=54, max_features=auto, min_samples_leaf=4, min_samples_split=10, n_estimators=1000; total time=   0.7s\n",
      "[CV] END bootstrap=True, max_depth=None, max_features=sqrt, min_samples_leaf=4, min_samples_split=2, n_estimators=366; total time=   0.3s\n",
      "[CV] END bootstrap=True, max_depth=None, max_features=sqrt, min_samples_leaf=4, min_samples_split=2, n_estimators=366; total time=   0.3s\n",
      "[CV] END bootstrap=True, max_depth=None, max_features=sqrt, min_samples_leaf=4, min_samples_split=2, n_estimators=366; total time=   0.4s\n",
      "[CV] END bootstrap=True, max_depth=32, max_features=sqrt, min_samples_leaf=1, min_samples_split=2, n_estimators=788; total time=   0.8s\n",
      "[CV] END bootstrap=True, max_depth=32, max_features=sqrt, min_samples_leaf=1, min_samples_split=2, n_estimators=788; total time=   0.9s\n",
      "[CV] END bootstrap=True, max_depth=32, max_features=sqrt, min_samples_leaf=1, min_samples_split=2, n_estimators=788; total time=   0.8s\n",
      "[CV] END bootstrap=False, max_depth=110, max_features=sqrt, min_samples_leaf=2, min_samples_split=2, n_estimators=1000; total time=   0.9s\n",
      "[CV] END bootstrap=False, max_depth=110, max_features=sqrt, min_samples_leaf=2, min_samples_split=2, n_estimators=1000; total time=   0.7s\n",
      "[CV] END bootstrap=False, max_depth=110, max_features=sqrt, min_samples_leaf=2, min_samples_split=2, n_estimators=1000; total time=   0.8s\n",
      "[CV] END bootstrap=False, max_depth=21, max_features=sqrt, min_samples_leaf=2, min_samples_split=10, n_estimators=788; total time=   0.5s\n",
      "[CV] END bootstrap=False, max_depth=21, max_features=sqrt, min_samples_leaf=2, min_samples_split=10, n_estimators=788; total time=   0.6s\n",
      "[CV] END bootstrap=False, max_depth=21, max_features=sqrt, min_samples_leaf=2, min_samples_split=10, n_estimators=788; total time=   0.5s\n",
      "[CV] END bootstrap=True, max_depth=54, max_features=auto, min_samples_leaf=2, min_samples_split=2, n_estimators=577; total time=   0.6s\n",
      "[CV] END bootstrap=True, max_depth=54, max_features=auto, min_samples_leaf=2, min_samples_split=2, n_estimators=577; total time=   0.6s\n",
      "[CV] END bootstrap=True, max_depth=54, max_features=auto, min_samples_leaf=2, min_samples_split=2, n_estimators=577; total time=   0.5s\n",
      "[CV] END bootstrap=True, max_depth=110, max_features=sqrt, min_samples_leaf=4, min_samples_split=10, n_estimators=894; total time=   0.9s\n",
      "[CV] END bootstrap=True, max_depth=110, max_features=sqrt, min_samples_leaf=4, min_samples_split=10, n_estimators=894; total time=   0.9s\n",
      "[CV] END bootstrap=True, max_depth=110, max_features=sqrt, min_samples_leaf=4, min_samples_split=10, n_estimators=894; total time=   0.8s\n",
      "[CV] END bootstrap=False, max_depth=76, max_features=auto, min_samples_leaf=2, min_samples_split=2, n_estimators=472; total time=   0.3s\n",
      "[CV] END bootstrap=False, max_depth=76, max_features=auto, min_samples_leaf=2, min_samples_split=2, n_estimators=472; total time=   0.3s\n",
      "[CV] END bootstrap=False, max_depth=76, max_features=auto, min_samples_leaf=2, min_samples_split=2, n_estimators=472; total time=   0.3s\n",
      "[CV] END bootstrap=False, max_depth=87, max_features=auto, min_samples_leaf=4, min_samples_split=10, n_estimators=894; total time=   0.7s\n",
      "[CV] END bootstrap=False, max_depth=87, max_features=auto, min_samples_leaf=4, min_samples_split=10, n_estimators=894; total time=   0.7s\n",
      "[CV] END bootstrap=False, max_depth=87, max_features=auto, min_samples_leaf=4, min_samples_split=10, n_estimators=894; total time=   0.6s\n",
      "[CV] END bootstrap=False, max_depth=10, max_features=sqrt, min_samples_leaf=4, min_samples_split=5, n_estimators=894; total time=   0.6s\n",
      "[CV] END bootstrap=False, max_depth=10, max_features=sqrt, min_samples_leaf=4, min_samples_split=5, n_estimators=894; total time=   0.6s\n",
      "[CV] END bootstrap=False, max_depth=10, max_features=sqrt, min_samples_leaf=4, min_samples_split=5, n_estimators=894; total time=   0.7s\n",
      "[CV] END bootstrap=True, max_depth=87, max_features=auto, min_samples_leaf=4, min_samples_split=5, n_estimators=894; total time=   0.9s\n",
      "[CV] END bootstrap=True, max_depth=87, max_features=auto, min_samples_leaf=4, min_samples_split=5, n_estimators=894; total time=   0.9s\n",
      "[CV] END bootstrap=True, max_depth=87, max_features=auto, min_samples_leaf=4, min_samples_split=5, n_estimators=894; total time=   0.9s\n",
      "[CV] END bootstrap=False, max_depth=21, max_features=sqrt, min_samples_leaf=1, min_samples_split=10, n_estimators=1000; total time=   0.7s\n",
      "[CV] END bootstrap=False, max_depth=21, max_features=sqrt, min_samples_leaf=1, min_samples_split=10, n_estimators=1000; total time=   0.7s\n",
      "[CV] END bootstrap=False, max_depth=21, max_features=sqrt, min_samples_leaf=1, min_samples_split=10, n_estimators=1000; total time=   0.7s\n",
      "[CV] END bootstrap=True, max_depth=32, max_features=auto, min_samples_leaf=2, min_samples_split=10, n_estimators=50; total time=   0.0s\n",
      "[CV] END bootstrap=True, max_depth=32, max_features=auto, min_samples_leaf=2, min_samples_split=10, n_estimators=50; total time=   0.0s\n",
      "[CV] END bootstrap=True, max_depth=32, max_features=auto, min_samples_leaf=2, min_samples_split=10, n_estimators=50; total time=   0.0s\n",
      "[CV] END bootstrap=False, max_depth=21, max_features=auto, min_samples_leaf=1, min_samples_split=5, n_estimators=683; total time=   0.5s\n",
      "[CV] END bootstrap=False, max_depth=21, max_features=auto, min_samples_leaf=1, min_samples_split=5, n_estimators=683; total time=   0.6s\n",
      "[CV] END bootstrap=False, max_depth=21, max_features=auto, min_samples_leaf=1, min_samples_split=5, n_estimators=683; total time=   0.5s\n",
      "[CV] END bootstrap=True, max_depth=10, max_features=sqrt, min_samples_leaf=4, min_samples_split=5, n_estimators=683; total time=   0.7s\n",
      "[CV] END bootstrap=True, max_depth=10, max_features=sqrt, min_samples_leaf=4, min_samples_split=5, n_estimators=683; total time=   0.7s\n",
      "[CV] END bootstrap=True, max_depth=10, max_features=sqrt, min_samples_leaf=4, min_samples_split=5, n_estimators=683; total time=   0.6s\n",
      "[CV] END bootstrap=True, max_depth=98, max_features=auto, min_samples_leaf=2, min_samples_split=10, n_estimators=50; total time=   0.0s\n",
      "[CV] END bootstrap=True, max_depth=98, max_features=auto, min_samples_leaf=2, min_samples_split=10, n_estimators=50; total time=   0.0s\n",
      "[CV] END bootstrap=True, max_depth=98, max_features=auto, min_samples_leaf=2, min_samples_split=10, n_estimators=50; total time=   0.0s\n",
      "[CV] END bootstrap=False, max_depth=65, max_features=auto, min_samples_leaf=1, min_samples_split=2, n_estimators=472; total time=   0.3s\n",
      "[CV] END bootstrap=False, max_depth=65, max_features=auto, min_samples_leaf=1, min_samples_split=2, n_estimators=472; total time=   0.3s\n",
      "[CV] END bootstrap=False, max_depth=65, max_features=auto, min_samples_leaf=1, min_samples_split=2, n_estimators=472; total time=   0.3s\n",
      "[CV] END bootstrap=False, max_depth=110, max_features=auto, min_samples_leaf=1, min_samples_split=10, n_estimators=261; total time=   0.2s\n",
      "[CV] END bootstrap=False, max_depth=110, max_features=auto, min_samples_leaf=1, min_samples_split=10, n_estimators=261; total time=   0.1s\n",
      "[CV] END bootstrap=False, max_depth=110, max_features=auto, min_samples_leaf=1, min_samples_split=10, n_estimators=261; total time=   0.1s\n",
      "[CV] END bootstrap=True, max_depth=43, max_features=sqrt, min_samples_leaf=1, min_samples_split=10, n_estimators=577; total time=   0.5s\n",
      "[CV] END bootstrap=True, max_depth=43, max_features=sqrt, min_samples_leaf=1, min_samples_split=10, n_estimators=577; total time=   0.5s\n",
      "[CV] END bootstrap=True, max_depth=43, max_features=sqrt, min_samples_leaf=1, min_samples_split=10, n_estimators=577; total time=   0.6s\n",
      "              precision    recall  f1-score   support\n",
      "\n",
      "           0       0.93      0.88      0.91        49\n",
      "           1       0.82      0.90      0.86        31\n",
      "\n",
      "    accuracy                           0.89        80\n",
      "   macro avg       0.88      0.89      0.88        80\n",
      "weighted avg       0.89      0.89      0.89        80\n",
      "\n"
     ]
    }
   ],
   "source": [
    "# Improving results by using Randomized SearchCV\n",
    "\n",
    "# number of trees in random forest\n",
    "n_estimators = [int(x) for x in np.linspace(start=50, stop=1000, num=10)]\n",
    "# number of features to consider at every split\n",
    "max_features = ['auto', 'sqrt']\n",
    "# max number of levels in tree\n",
    "max_depth = [int(x) for x in np.linspace(10, 110, num=10)] + [None]\n",
    "# min number of samples required to split a node\n",
    "min_samples_split = [2, 5, 10]\n",
    "# min number of samples required at each leaf node\n",
    "min_samples_leaf = [1, 2, 4]\n",
    "# method of selecting samples for training each tree\n",
    "bootstrap = [True, False]\n",
    "\n",
    "# random grid\n",
    "random_grid = {'n_estimators': n_estimators,\n",
    "              'max_features': max_features,\n",
    "              'max_depth': max_depth,\n",
    "              'min_samples_split': min_samples_split,\n",
    "              'min_samples_leaf': min_samples_leaf,\n",
    "              'bootstrap': bootstrap}\n",
    "\n",
    "rfc_optimized = RandomizedSearchCV(estimator=rfc, param_distributions=random_grid, n_iter=100, cv=3, verbose=2, random_state=42)\n",
    "\n",
    "# print(rf_optimized.best_params_)\n",
    "\n",
    "rfc_optimized.fit(X_train, y_train)\n",
    "pred_optimized = rfc_optimized.predict(X_test)\n",
    "print(classification_report(y_test, pred_optimized))"
   ]
  },
  {
   "cell_type": "code",
   "execution_count": 25,
   "id": "fc05a1ba",
   "metadata": {},
   "outputs": [
    {
     "name": "stdout",
     "output_type": "stream",
     "text": [
      "              precision    recall  f1-score   support\n",
      "\n",
      "           0       0.96      0.94      0.95        51\n",
      "           1       0.90      0.93      0.92        29\n",
      "\n",
      "    accuracy                           0.94        80\n",
      "   macro avg       0.93      0.94      0.93        80\n",
      "weighted avg       0.94      0.94      0.94        80\n",
      "\n",
      "{'n_estimators': 50, 'min_samples_split': 10, 'min_samples_leaf': 2, 'max_features': 'auto', 'max_depth': 32, 'bootstrap': True}\n"
     ]
    }
   ],
   "source": [
    "print(classification_report(y_test, pred_optimized))\n",
    "print(rfc_optimized.best_params_)"
   ]
  },
  {
   "cell_type": "code",
   "execution_count": 21,
   "id": "c34c28dd",
   "metadata": {},
   "outputs": [
    {
     "data": {
      "text/plain": [
       "0.8875"
      ]
     },
     "execution_count": 21,
     "metadata": {},
     "output_type": "execute_result"
    }
   ],
   "source": [
    "rfeval = cross_val_score(estimator=rfc, X = X_train, y=y_train, cv=10)\n",
    "rfeval.mean()"
   ]
  },
  {
   "cell_type": "code",
   "execution_count": 22,
   "id": "80f7aa83",
   "metadata": {},
   "outputs": [
    {
     "data": {
      "text/plain": [
       "0.909375"
      ]
     },
     "execution_count": 22,
     "metadata": {},
     "output_type": "execute_result"
    }
   ],
   "source": [
    "# By using the above mentioned (tuned) hyperparameters\n",
    "\n",
    "rf_optimized = RandomForestClassifier(n_estimators=50, min_samples_split=10, min_samples_leaf=2, max_features='auto', max_depth = 32, bootstrap = True)\n",
    "rf_optimized.fit(X_train, y_train)\n",
    "\n",
    "rfeval = cross_val_score(estimator=rf_optimized, X=X_train, y=y_train, cv=10)\n",
    "rfeval.mean()"
   ]
  },
  {
   "cell_type": "markdown",
   "id": "21e4fe56",
   "metadata": {},
   "source": [
    "# Confusion matrix"
   ]
  },
  {
   "cell_type": "code",
   "execution_count": 23,
   "id": "12347909",
   "metadata": {},
   "outputs": [],
   "source": [
    "from sklearn import metrics\n",
    "\n",
    "Confusion_Matrix = metrics.confusion_matrix(y_test, pred_rfc)"
   ]
  },
  {
   "cell_type": "code",
   "execution_count": 24,
   "id": "cc55a460",
   "metadata": {},
   "outputs": [
    {
     "data": {
      "text/plain": [
       "array([[44,  5],\n",
       "       [ 4, 27]], dtype=int64)"
      ]
     },
     "execution_count": 24,
     "metadata": {},
     "output_type": "execute_result"
    }
   ],
   "source": [
    "Confusion_Matrix"
   ]
  },
  {
   "cell_type": "code",
   "execution_count": 25,
   "id": "97def35f",
   "metadata": {},
   "outputs": [
    {
     "data": {
      "text/plain": [
       "Text(0.5, 257.44, 'Predicted label')"
      ]
     },
     "execution_count": 25,
     "metadata": {},
     "output_type": "execute_result"
    },
    {
     "data": {
      "image/png": "[encoded data removed]",
      "text/plain": [
       "<Figure size 432x288 with 2 Axes>"
      ]
     },
     "metadata": {
      "needs_background": "light"
     },
     "output_type": "display_data"
    }
   ],
   "source": [
    "# Visual representation of confusion matrix\n",
    "\n",
    "class_names=[0,1] # name  of classes\n",
    "fig, ax = plt.subplots()\n",
    "tick_marks = np.arange(len(class_names))\n",
    "plt.xticks(tick_marks, class_names)\n",
    "plt.yticks(tick_marks, class_names)\n",
    "# creating heatmap\n",
    "sns.heatmap(pd.DataFrame(Confusion_Matrix), annot=True, cmap=\"YlGnBu\" ,fmt='g')\n",
    "ax.xaxis.set_label_position(\"top\")\n",
    "plt.tight_layout()\n",
    "plt.title('Confusion matrix', y=1.1)\n",
    "plt.ylabel('Actual label')\n",
    "plt.xlabel('Predicted label')"
   ]
  },
  {
   "cell_type": "markdown",
   "id": "8c5ac5af",
   "metadata": {},
   "source": [
    "# Accuracy, Precision and Recall"
   ]
  },
  {
   "cell_type": "code",
   "execution_count": 26,
   "id": "0ef05483",
   "metadata": {},
   "outputs": [
    {
     "name": "stdout",
     "output_type": "stream",
     "text": [
      "Accuracy: 0.8875\n",
      "Precision: 0.84375\n",
      "Recall: 0.8709677419354839\n"
     ]
    }
   ],
   "source": [
    "print(\"Accuracy:\",metrics.accuracy_score(y_test, pred_rfc))\n",
    "print(\"Precision:\",metrics.precision_score(y_test, pred_rfc))\n",
    "print(\"Recall:\",metrics.recall_score(y_test, pred_rfc))"
   ]
  },
  {
   "cell_type": "code",
   "execution_count": 27,
   "id": "44e21f4f",
   "metadata": {},
   "outputs": [],
   "source": [
    "import pickle"
   ]
  },
  {
   "cell_type": "code",
   "execution_count": 31,
   "id": "bdc1b4a2",
   "metadata": {},
   "outputs": [],
   "source": [
    "pickle_out = open(\"classifier.pkl\",\"wb\")\n",
    "pickle.dump(rf_optimized, pickle_out)\n",
    "pickle_out.close()"
   ]
  },
  {
   "cell_type": "code",
   "execution_count": 32,
   "id": "6f94eb55",
   "metadata": {},
   "outputs": [
    {
     "data": {
      "text/plain": [
       "array([0], dtype=int64)"
      ]
     },
     "execution_count": 32,
     "metadata": {},
     "output_type": "execute_result"
    }
   ],
   "source": [
    "rf_optimized.predict([[23,12344]])"
   ]
  },
  {
   "cell_type": "code",
   "execution_count": null,
   "id": "b8d1f062",
   "metadata": {},
   "outputs": [],
   "source": []
  }
 ],
 "metadata": {
  "kernelspec": {
   "display_name": "Python 3 (ipykernel)",
   "language": "python",
   "name": "python3"
  },
  "language_info": {
   "codemirror_mode": {
    "name": "ipython",
    "version": 3
   },
   "file_extension": ".py",
   "mimetype": "text/x-python",
   "name": "python",
   "nbconvert_exporter": "python",
   "pygments_lexer": "ipython3",
   "version": "3.9.7"
  }
 },
 "nbformat": 4,
 "nbformat_minor": 5
}
